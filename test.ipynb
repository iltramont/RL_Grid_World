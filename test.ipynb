{
 "cells": [
  {
   "cell_type": "code",
   "execution_count": 1,
   "id": "2ef6d454-40f1-4838-b370-5402d7ebab1b",
   "metadata": {
    "ExecuteTime": {
     "end_time": "2024-03-16T17:50:31.560272Z",
     "start_time": "2024-03-16T17:50:31.546014Z"
    }
   },
   "outputs": [],
   "source": [
    "import numpy as np\n",
    "import seaborn as sns\n",
    "from IPython.display import clear_output\n"
   ]
  },
  {
   "cell_type": "code",
   "execution_count": 2,
   "id": "a883b742-8cfb-4619-a7c7-6fe6422abe42",
   "metadata": {
    "ExecuteTime": {
     "end_time": "2024-03-16T17:50:31.576343Z",
     "start_time": "2024-03-16T17:50:31.562275Z"
    }
   },
   "outputs": [],
   "source": [
    "def rotate_action(action: (int, int), clockwise: bool) -> (int, int):\n",
    "    if clockwise:\n",
    "        return action[1], -action[0]\n",
    "    else:\n",
    "        return -action[1], action[0]"
   ]
  },
  {
   "cell_type": "code",
   "execution_count": 3,
   "id": "db11e84e-5d9b-4502-b6c8-fd387a7f4d60",
   "metadata": {
    "ExecuteTime": {
     "end_time": "2024-03-16T17:50:31.591539Z",
     "start_time": "2024-03-16T17:50:31.580342Z"
    }
   },
   "outputs": [
    {
     "name": "stdout",
     "output_type": "stream",
     "text": [
      "(-3, 2)\n"
     ]
    }
   ],
   "source": [
    "print(rotate_action((2, 3), False))"
   ]
  },
  {
   "cell_type": "code",
   "execution_count": 4,
   "id": "ba3b6e88-224a-4885-8165-9ca1241e7fe2",
   "metadata": {
    "ExecuteTime": {
     "end_time": "2024-03-16T17:50:31.607902Z",
     "start_time": "2024-03-16T17:50:31.593540Z"
    }
   },
   "outputs": [],
   "source": [
    "def geometric_series(x: float, k: int, start: int = 1) -> list[float]:\n",
    "    return [x**i for i in reversed(range(start, start + k))]"
   ]
  },
  {
   "cell_type": "code",
   "outputs": [
    {
     "data": {
      "text/plain": "[0.125, 0.25, 0.5]"
     },
     "execution_count": 5,
     "metadata": {},
     "output_type": "execute_result"
    }
   ],
   "source": [
    "geometric_series(0.5, 3)"
   ],
   "metadata": {
    "collapsed": false,
    "ExecuteTime": {
     "end_time": "2024-03-16T17:50:31.623139Z",
     "start_time": "2024-03-16T17:50:31.610911Z"
    }
   },
   "id": "76aed341e0b51a89",
   "execution_count": 5
  },
  {
   "cell_type": "code",
   "outputs": [],
   "source": [
    "def geom_alpha(x: float, k: int) -> float:\n",
    "    if x == 1.0:\n",
    "        return 1 / k\n",
    "    else:\n",
    "        return (1 - x) / (x - x**(k + 1))"
   ],
   "metadata": {
    "collapsed": false,
    "ExecuteTime": {
     "end_time": "2024-03-16T17:50:31.638560Z",
     "start_time": "2024-03-16T17:50:31.624923Z"
    }
   },
   "id": "89e4b1623f80bafb",
   "execution_count": 6
  },
  {
   "cell_type": "code",
   "outputs": [
    {
     "data": {
      "text/plain": "1.0"
     },
     "execution_count": 7,
     "metadata": {},
     "output_type": "execute_result"
    }
   ],
   "source": [
    "geom_alpha(0.5, 3) * sum(geometric_series(0.5, 3))"
   ],
   "metadata": {
    "collapsed": false,
    "ExecuteTime": {
     "end_time": "2024-03-16T17:50:31.654755Z",
     "start_time": "2024-03-16T17:50:31.640985Z"
    }
   },
   "id": "adcf87ff1246a1ae",
   "execution_count": 7
  },
  {
   "cell_type": "code",
   "outputs": [
    {
     "data": {
      "text/plain": "1.0"
     },
     "execution_count": 8,
     "metadata": {},
     "output_type": "execute_result"
    }
   ],
   "source": [
    "geom_alpha(0.5, 100)"
   ],
   "metadata": {
    "collapsed": false,
    "ExecuteTime": {
     "end_time": "2024-03-16T17:50:31.670837Z",
     "start_time": "2024-03-16T17:50:31.656771Z"
    }
   },
   "id": "f3777ef9d7f262d5",
   "execution_count": 8
  },
  {
   "cell_type": "code",
   "outputs": [],
   "source": [],
   "metadata": {
    "collapsed": false
   },
   "id": "6fb5c1cc1e378b58",
   "execution_count": 11
  },
  {
   "cell_type": "code",
   "outputs": [],
   "source": [],
   "metadata": {
    "collapsed": false
   },
   "id": "e1db02e5556e9eff"
  }
 ],
 "metadata": {
  "kernelspec": {
   "display_name": "Python 3 (ipykernel)",
   "language": "python",
   "name": "python3"
  },
  "language_info": {
   "codemirror_mode": {
    "name": "ipython",
    "version": 3
   },
   "file_extension": ".py",
   "mimetype": "text/x-python",
   "name": "python",
   "nbconvert_exporter": "python",
   "pygments_lexer": "ipython3",
   "version": "3.10.13"
  }
 },
 "nbformat": 4,
 "nbformat_minor": 5
}
