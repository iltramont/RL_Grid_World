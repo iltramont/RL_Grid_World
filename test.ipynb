{
 "cells": [
  {
   "cell_type": "code",
   "execution_count": 1,
   "id": "2ef6d454-40f1-4838-b370-5402d7ebab1b",
   "metadata": {
    "ExecuteTime": {
     "end_time": "2024-03-16T13:18:52.193642Z",
     "start_time": "2024-03-16T13:18:52.182148Z"
    }
   },
   "outputs": [],
   "source": [
    "import numpy as np\n",
    "import seaborn as sns"
   ]
  },
  {
   "cell_type": "code",
   "execution_count": 2,
   "id": "8228d4e8-f7fa-45d6-bcb2-dadee6165858",
   "metadata": {
    "ExecuteTime": {
     "end_time": "2024-03-16T13:18:52.225631Z",
     "start_time": "2024-03-16T13:18:52.197636Z"
    }
   },
   "outputs": [],
   "source": [
    "clockwise_rotation = np.array([\n",
    "    [0, 1],\n",
    "    [-1, 0]\n",
    "])"
   ]
  },
  {
   "cell_type": "code",
   "execution_count": 3,
   "id": "2ca6eeca-a06c-479e-9cb9-02d82835e9b8",
   "metadata": {
    "ExecuteTime": {
     "end_time": "2024-03-16T13:18:53.607197Z",
     "start_time": "2024-03-16T13:18:53.600189Z"
    }
   },
   "outputs": [],
   "source": [
    "v = np.array([\n",
    "    [2],\n",
    "    [0]\n",
    "])"
   ]
  },
  {
   "cell_type": "code",
   "execution_count": 4,
   "id": "296caaea-7be1-4b8f-8cb0-fca5e4381c49",
   "metadata": {
    "ExecuteTime": {
     "end_time": "2024-03-16T13:18:55.731474Z",
     "start_time": "2024-03-16T13:18:55.710893Z"
    }
   },
   "outputs": [
    {
     "name": "stdout",
     "output_type": "stream",
     "text": [
      "[[ 0]\n",
      " [-2]]\n"
     ]
    }
   ],
   "source": [
    "print(clockwise_rotation @ v)"
   ]
  },
  {
   "cell_type": "code",
   "execution_count": 10,
   "id": "a883b742-8cfb-4619-a7c7-6fe6422abe42",
   "metadata": {
    "ExecuteTime": {
     "end_time": "2024-03-16T13:19:43.658606Z",
     "start_time": "2024-03-16T13:19:43.644596Z"
    }
   },
   "outputs": [],
   "source": [
    "def rotate_action(action: (int, int), clockwise: bool) -> (int, int):\n",
    "    if clockwise:\n",
    "        return action[1], -action[0]\n",
    "    else:\n",
    "        return -action[1], action[0]"
   ]
  },
  {
   "cell_type": "code",
   "execution_count": 11,
   "id": "db11e84e-5d9b-4502-b6c8-fd387a7f4d60",
   "metadata": {
    "ExecuteTime": {
     "end_time": "2024-03-16T13:19:45.186744Z",
     "start_time": "2024-03-16T13:19:45.175742Z"
    }
   },
   "outputs": [
    {
     "data": {
      "text/plain": "(-3, 2)"
     },
     "execution_count": 11,
     "metadata": {},
     "output_type": "execute_result"
    }
   ],
   "source": [
    "rotate_action((2, 3), False)"
   ]
  },
  {
   "cell_type": "code",
   "execution_count": 12,
   "id": "6897d5a3-29f2-4d3e-ac60-b170dea930e0",
   "metadata": {
    "ExecuteTime": {
     "end_time": "2024-03-16T13:19:52.806452Z",
     "start_time": "2024-03-16T13:19:51.795985Z"
    }
   },
   "outputs": [
    {
     "data": {
      "text/plain": "<Axes: ylabel='Count'>"
     },
     "execution_count": 12,
     "metadata": {},
     "output_type": "execute_result"
    },
    {
     "data": {
      "text/plain": "<Figure size 640x480 with 1 Axes>",
      "image/png": "[encoded data removed]"
     },
     "metadata": {},
     "output_type": "display_data"
    }
   ],
   "source": [
    "sns.histplot([np.random.randint(0, 2) for _ in range(100)])"
   ]
  },
  {
   "cell_type": "code",
   "execution_count": null,
   "id": "ba3b6e88-224a-4885-8165-9ca1241e7fe2",
   "metadata": {},
   "outputs": [],
   "source": []
  }
 ],
 "metadata": {
  "kernelspec": {
   "display_name": "Python 3 (ipykernel)",
   "language": "python",
   "name": "python3"
  },
  "language_info": {
   "codemirror_mode": {
    "name": "ipython",
    "version": 3
   },
   "file_extension": ".py",
   "mimetype": "text/x-python",
   "name": "python",
   "nbconvert_exporter": "python",
   "pygments_lexer": "ipython3",
   "version": "3.10.13"
  }
 },
 "nbformat": 4,
 "nbformat_minor": 5
}
