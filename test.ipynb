{
 "cells": [
  {
   "cell_type": "code",
   "execution_count": 33,
   "id": "2ef6d454-40f1-4838-b370-5402d7ebab1b",
   "metadata": {},
   "outputs": [],
   "source": [
    "import numpy as np\n",
    "import seaborn as sns"
   ]
  },
  {
   "cell_type": "code",
   "execution_count": 5,
   "id": "8228d4e8-f7fa-45d6-bcb2-dadee6165858",
   "metadata": {},
   "outputs": [],
   "source": [
    "clockwise_rotation = np.array([\n",
    "    [0, 1],\n",
    "    [-1, 0]\n",
    "])"
   ]
  },
  {
   "cell_type": "code",
   "execution_count": 6,
   "id": "2ca6eeca-a06c-479e-9cb9-02d82835e9b8",
   "metadata": {},
   "outputs": [],
   "source": [
    "v = np.array([\n",
    "    [2],\n",
    "    [0]\n",
    "])"
   ]
  },
  {
   "cell_type": "code",
   "execution_count": 7,
   "id": "296caaea-7be1-4b8f-8cb0-fca5e4381c49",
   "metadata": {},
   "outputs": [
    {
     "data": {
      "text/plain": [
       "array([[ 0],\n",
       "       [-2]])"
      ]
     },
     "execution_count": 7,
     "metadata": {},
     "output_type": "execute_result"
    }
   ],
   "source": [
    "clockwise_rotation @ v"
   ]
  },
  {
   "cell_type": "code",
   "execution_count": null,
   "id": "f8d3daf5-59fc-4dc2-ae34-e3890c6981de",
   "metadata": {},
   "outputs": [],
   "source": [
    "def clockwise(action)"
   ]
  },
  {
   "cell_type": "code",
   "execution_count": 17,
   "id": "a0c30d63-2315-4e0d-b45d-8ef4de9b8d3a",
   "metadata": {},
   "outputs": [
    {
     "data": {
      "text/plain": [
       "3"
      ]
     },
     "execution_count": 17,
     "metadata": {},
     "output_type": "execute_result"
    }
   ],
   "source": [
    "np.random.choice((1, 2, 3, 4))"
   ]
  },
  {
   "cell_type": "code",
   "execution_count": 20,
   "id": "69fbe79f-9600-4117-956a-16bee9ec7ba0",
   "metadata": {},
   "outputs": [],
   "source": [
    "def pippo():\n",
    "    return 1, 2"
   ]
  },
  {
   "cell_type": "code",
   "execution_count": 22,
   "id": "2f1490e9-a10c-4bbf-9fc2-c0b14fa07b36",
   "metadata": {},
   "outputs": [],
   "source": [
    "a = pippo()"
   ]
  },
  {
   "cell_type": "code",
   "execution_count": 23,
   "id": "62b231d7-525f-4180-8cc8-463128b20ec0",
   "metadata": {},
   "outputs": [
    {
     "data": {
      "text/plain": [
       "(1, 2)"
      ]
     },
     "execution_count": 23,
     "metadata": {},
     "output_type": "execute_result"
    }
   ],
   "source": [
    "a"
   ]
  },
  {
   "cell_type": "code",
   "execution_count": 27,
   "id": "a883b742-8cfb-4619-a7c7-6fe6422abe42",
   "metadata": {},
   "outputs": [],
   "source": [
    "def rotate_action(action: (int, int), clockwise: bool) -> (int, int):\n",
    "    if clockwise:\n",
    "        return action[1], -action[0]\n",
    "    else:\n",
    "        return -action[1], action[0]"
   ]
  },
  {
   "cell_type": "code",
   "execution_count": 28,
   "id": "db11e84e-5d9b-4502-b6c8-fd387a7f4d60",
   "metadata": {},
   "outputs": [
    {
     "data": {
      "text/plain": [
       "(-3, 2)"
      ]
     },
     "execution_count": 28,
     "metadata": {},
     "output_type": "execute_result"
    }
   ],
   "source": [
    "rotate_action((2, 3), False)"
   ]
  },
  {
   "cell_type": "code",
   "execution_count": 40,
   "id": "6897d5a3-29f2-4d3e-ac60-b170dea930e0",
   "metadata": {},
   "outputs": [
    {
     "data": {
      "text/plain": [
       "<Axes: ylabel='Count'>"
      ]
     },
     "execution_count": 40,
     "metadata": {},
     "output_type": "execute_result"
    },
    {
     "data": {
      "image/png": "[encoded data removed]",
      "text/plain": [
       "<Figure size 640x480 with 1 Axes>"
      ]
     },
     "metadata": {},
     "output_type": "display_data"
    }
   ],
   "source": [
    "sns.histplot([np.random.randint(0, 2) for _ in range(10)])"
   ]
  },
  {
   "cell_type": "code",
   "execution_count": null,
   "id": "ba3b6e88-224a-4885-8165-9ca1241e7fe2",
   "metadata": {},
   "outputs": [],
   "source": []
  }
 ],
 "metadata": {
  "kernelspec": {
   "display_name": "Python 3 (ipykernel)",
   "language": "python",
   "name": "python3"
  },
  "language_info": {
   "codemirror_mode": {
    "name": "ipython",
    "version": 3
   },
   "file_extension": ".py",
   "mimetype": "text/x-python",
   "name": "python",
   "nbconvert_exporter": "python",
   "pygments_lexer": "ipython3",
   "version": "3.10.13"
  }
 },
 "nbformat": 4,
 "nbformat_minor": 5
}
