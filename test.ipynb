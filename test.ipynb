{
 "cells": [
  {
   "cell_type": "code",
   "execution_count": 1,
   "id": "2ef6d454-40f1-4838-b370-5402d7ebab1b",
   "metadata": {
    "ExecuteTime": {
     "end_time": "2024-03-18T16:19:19.078720Z",
     "start_time": "2024-03-18T16:19:19.066663Z"
    }
   },
   "outputs": [],
   "source": [
    "import numpy as np\n",
    "import seaborn as sns\n",
    "from IPython.display import clear_output\n"
   ]
  },
  {
   "cell_type": "code",
   "execution_count": 2,
   "id": "a883b742-8cfb-4619-a7c7-6fe6422abe42",
   "metadata": {
    "ExecuteTime": {
     "end_time": "2024-03-18T16:19:19.109104Z",
     "start_time": "2024-03-18T16:19:19.083719Z"
    }
   },
   "outputs": [],
   "source": [
    "def rotate_action(action: (int, int), clockwise: bool) -> (int, int):\n",
    "    if clockwise:\n",
    "        return action[1], -action[0]\n",
    "    else:\n",
    "        return -action[1], action[0]"
   ]
  },
  {
   "cell_type": "code",
   "execution_count": 3,
   "id": "db11e84e-5d9b-4502-b6c8-fd387a7f4d60",
   "metadata": {
    "ExecuteTime": {
     "end_time": "2024-03-18T16:19:19.125111Z",
     "start_time": "2024-03-18T16:19:19.112106Z"
    }
   },
   "outputs": [
    {
     "name": "stdout",
     "output_type": "stream",
     "text": [
      "(-3, 2)\n"
     ]
    }
   ],
   "source": [
    "print(rotate_action((2, 3), False))"
   ]
  },
  {
   "cell_type": "code",
   "execution_count": 4,
   "id": "ba3b6e88-224a-4885-8165-9ca1241e7fe2",
   "metadata": {
    "ExecuteTime": {
     "end_time": "2024-03-18T16:19:19.140716Z",
     "start_time": "2024-03-18T16:19:19.128110Z"
    }
   },
   "outputs": [],
   "source": [
    "def geometric_series(x: float, k: int, start: int = 1) -> list[float]:\n",
    "    return [x**i for i in reversed(range(start, start + k))]"
   ]
  },
  {
   "cell_type": "code",
   "outputs": [
    {
     "data": {
      "text/plain": "[0.125, 0.25, 0.5]"
     },
     "execution_count": 5,
     "metadata": {},
     "output_type": "execute_result"
    }
   ],
   "source": [
    "geometric_series(0.5, 3)"
   ],
   "metadata": {
    "collapsed": false,
    "ExecuteTime": {
     "end_time": "2024-03-18T16:19:19.171809Z",
     "start_time": "2024-03-18T16:19:19.143716Z"
    }
   },
   "id": "76aed341e0b51a89",
   "execution_count": 5
  },
  {
   "cell_type": "code",
   "outputs": [],
   "source": [
    "def geom_alpha(x: float, k: int) -> float:\n",
    "    if x == 1.0:\n",
    "        return 1 / k\n",
    "    else:\n",
    "        return (1 - x) / (x - x**(k + 1))"
   ],
   "metadata": {
    "collapsed": false,
    "ExecuteTime": {
     "end_time": "2024-03-18T16:19:19.187981Z",
     "start_time": "2024-03-18T16:19:19.174877Z"
    }
   },
   "id": "89e4b1623f80bafb",
   "execution_count": 6
  },
  {
   "cell_type": "code",
   "outputs": [
    {
     "data": {
      "text/plain": "1.0"
     },
     "execution_count": 7,
     "metadata": {},
     "output_type": "execute_result"
    }
   ],
   "source": [
    "geom_alpha(0.5, 3) * sum(geometric_series(0.5, 3))"
   ],
   "metadata": {
    "collapsed": false,
    "ExecuteTime": {
     "end_time": "2024-03-18T16:19:19.203978Z",
     "start_time": "2024-03-18T16:19:19.192978Z"
    }
   },
   "id": "adcf87ff1246a1ae",
   "execution_count": 7
  },
  {
   "cell_type": "code",
   "outputs": [
    {
     "data": {
      "text/plain": "1.0"
     },
     "execution_count": 8,
     "metadata": {},
     "output_type": "execute_result"
    }
   ],
   "source": [
    "geom_alpha(0.5, 100)"
   ],
   "metadata": {
    "collapsed": false,
    "ExecuteTime": {
     "end_time": "2024-03-18T16:19:19.219215Z",
     "start_time": "2024-03-18T16:19:19.206977Z"
    }
   },
   "id": "f3777ef9d7f262d5",
   "execution_count": 8
  },
  {
   "cell_type": "code",
   "outputs": [],
   "source": [
    "numbers = [np.random.rand() for _ in range(100_000)]"
   ],
   "metadata": {
    "collapsed": false,
    "ExecuteTime": {
     "end_time": "2024-03-18T16:21:10.021468Z",
     "start_time": "2024-03-18T16:21:09.933899Z"
    }
   },
   "id": "6fb5c1cc1e378b58",
   "execution_count": 19
  },
  {
   "cell_type": "code",
   "outputs": [
    {
     "data": {
      "text/plain": "<Axes: ylabel='Count'>"
     },
     "execution_count": 20,
     "metadata": {},
     "output_type": "execute_result"
    },
    {
     "data": {
      "text/plain": "<Figure size 640x480 with 1 Axes>",
      "image/png": "[encoded data removed]"
     },
     "metadata": {},
     "output_type": "display_data"
    }
   ],
   "source": [
    "sns.histplot(numbers)"
   ],
   "metadata": {
    "collapsed": false,
    "ExecuteTime": {
     "end_time": "2024-03-18T16:21:10.757323Z",
     "start_time": "2024-03-18T16:21:10.158350Z"
    }
   },
   "id": "e1db02e5556e9eff",
   "execution_count": 20
  },
  {
   "cell_type": "code",
   "outputs": [
    {
     "name": "stdout",
     "output_type": "stream",
     "text": [
      "pippo 1\n",
      "pippo 2\n",
      "pippo 3\n",
      "pippo 4\n"
     ]
    }
   ],
   "source": [
    "k = 0\n",
    "while k < 10:\n",
    "    k += 1\n",
    "    if k == 5:\n",
    "        break\n",
    "    print(f\"pippo {k}\")"
   ],
   "metadata": {
    "collapsed": false,
    "ExecuteTime": {
     "end_time": "2024-03-18T16:37:24.678133Z",
     "start_time": "2024-03-18T16:37:24.660308Z"
    }
   },
   "id": "b427e0aefe867913",
   "execution_count": 23
  },
  {
   "cell_type": "code",
   "outputs": [
    {
     "name": "stdout",
     "output_type": "stream",
     "text": [
      "episode = 1, epsilon = 1.0\n",
      "episode = 2, epsilon = 0.6299605249474366\n",
      "episode = 3, epsilon = 0.4807498567691361\n",
      "episode = 4, epsilon = 0.39685026299204984\n",
      "episode = 5, epsilon = 0.3419951893353394\n",
      "episode = 6, epsilon = 0.30285343213869\n",
      "episode = 7, epsilon = 0.27327588325319846\n",
      "episode = 8, epsilon = 0.25000000000000006\n",
      "episode = 9, epsilon = 0.23112042478354494\n",
      "episode = 10, epsilon = 0.2154434690031884\n",
      "episode = 11, epsilon = 0.20218000823357415\n",
      "episode = 12, epsilon = 0.190785707092222\n",
      "episode = 13, epsilon = 0.1808718990554429\n",
      "episode = 14, epsilon = 0.1721530188696593\n",
      "episode = 15, epsilon = 0.16441413828869803\n",
      "episode = 16, epsilon = 0.15749013123685915\n",
      "episode = 17, epsilon = 0.15125185827401386\n",
      "episode = 18, epsilon = 0.14559674412271648\n",
      "episode = 19, epsilon = 0.14044219203799713\n",
      "episode = 20, epsilon = 0.13572088082974534\n",
      "episode = 21, epsilon = 0.13137734173243434\n",
      "episode = 22, epsilon = 0.12736542412069943\n",
      "episode = 23, epsilon = 0.12364639042832894\n",
      "episode = 24, epsilon = 0.12018746419228403\n",
      "episode = 25, epsilon = 0.11696070952851464\n",
      "episode = 26, epsilon = 0.11394215647720658\n",
      "episode = 27, epsilon = 0.11111111111111113\n",
      "episode = 28, epsilon = 0.10844960613841653\n",
      "episode = 29, epsilon = 0.10594195950640854\n",
      "episode = 30, epsilon = 0.10357441686512864\n",
      "episode = 31, epsilon = 0.10133485975456108\n",
      "episode = 32, epsilon = 0.1\n",
      "episode = 33, epsilon = 0.1\n",
      "episode = 34, epsilon = 0.1\n",
      "episode = 35, epsilon = 0.1\n",
      "episode = 36, epsilon = 0.1\n",
      "episode = 37, epsilon = 0.1\n",
      "episode = 38, epsilon = 0.1\n",
      "episode = 39, epsilon = 0.1\n",
      "episode = 40, epsilon = 0.1\n",
      "episode = 41, epsilon = 0.1\n",
      "episode = 42, epsilon = 0.1\n",
      "episode = 43, epsilon = 0.1\n",
      "episode = 44, epsilon = 0.1\n",
      "episode = 45, epsilon = 0.1\n",
      "episode = 46, epsilon = 0.1\n",
      "episode = 47, epsilon = 0.1\n",
      "episode = 48, epsilon = 0.1\n",
      "episode = 49, epsilon = 0.1\n",
      "episode = 50, epsilon = 0.1\n"
     ]
    }
   ],
   "source": [
    "for i in range(1, 51):\n",
    "    print(f\"episode = {i}, epsilon = {max(0.1, 1 / i ** (2/3))}\")"
   ],
   "metadata": {
    "collapsed": false,
    "ExecuteTime": {
     "end_time": "2024-03-18T17:08:55.360633Z",
     "start_time": "2024-03-18T17:08:55.341361Z"
    }
   },
   "id": "d1481370ef180e95",
   "execution_count": 28
  },
  {
   "cell_type": "code",
   "outputs": [
    {
     "name": "stdout",
     "output_type": "stream",
     "text": [
      "episode = 1, epsilon = 1.0\n",
      "episode = 2, epsilon = 0.7937005259840997\n",
      "episode = 3, epsilon = 0.6933612743506348\n",
      "episode = 4, epsilon = 0.6299605249474366\n",
      "episode = 5, epsilon = 0.5848035476425733\n",
      "episode = 6, epsilon = 0.5503212081491045\n",
      "episode = 7, epsilon = 0.5227579585747103\n",
      "episode = 8, epsilon = 0.5\n",
      "episode = 9, epsilon = 0.4807498567691361\n",
      "episode = 10, epsilon = 0.46415888336127786\n",
      "episode = 11, epsilon = 0.4496443130226092\n",
      "episode = 12, epsilon = 0.43679023236814946\n",
      "episode = 13, epsilon = 0.4252903702829902\n",
      "episode = 14, epsilon = 0.4149132666831218\n",
      "episode = 15, epsilon = 0.4054801330382267\n",
      "episode = 16, epsilon = 0.39685026299204984\n",
      "episode = 17, epsilon = 0.3889111187328203\n",
      "episode = 18, epsilon = 0.381571414184444\n",
      "episode = 19, epsilon = 0.37475617678431544\n",
      "episode = 20, epsilon = 0.3684031498640387\n",
      "episode = 21, epsilon = 0.3624601243342974\n",
      "episode = 22, epsilon = 0.35688292775180414\n",
      "episode = 23, epsilon = 0.35163388691695935\n",
      "episode = 24, epsilon = 0.3466806371753174\n",
      "episode = 25, epsilon = 0.3419951893353394\n",
      "episode = 26, epsilon = 0.3375531905895819\n",
      "episode = 27, epsilon = 0.3333333333333333\n",
      "episode = 28, epsilon = 0.3293168780041748\n",
      "episode = 29, epsilon = 0.32548726473766765\n",
      "episode = 30, epsilon = 0.3218297948685433\n",
      "episode = 31, epsilon = 0.31833136784577337\n",
      "episode = 32, epsilon = 0.3149802624737183\n",
      "episode = 33, epsilon = 0.311765953881872\n",
      "episode = 34, epsilon = 0.3086789594993042\n",
      "episode = 35, epsilon = 0.30571070873287987\n",
      "episode = 36, epsilon = 0.30285343213869\n",
      "episode = 37, epsilon = 0.30010006671856176\n",
      "episode = 38, epsilon = 0.29744417462950146\n",
      "episode = 39, epsilon = 0.2948798731084674\n",
      "episode = 40, epsilon = 0.2924017738212866\n",
      "episode = 41, epsilon = 0.2900049301676267\n",
      "episode = 42, epsilon = 0.28768479133239405\n",
      "episode = 43, epsilon = 0.28543716208189446\n",
      "episode = 44, epsilon = 0.28325816747135235\n",
      "episode = 45, epsilon = 0.2811442217672498\n",
      "episode = 46, epsilon = 0.27909200099982406\n",
      "episode = 47, epsilon = 0.2770984186529621\n",
      "episode = 48, epsilon = 0.27516060407455223\n",
      "episode = 49, epsilon = 0.27327588325319846\n",
      "episode = 50, epsilon = 0.2714417616594907\n",
      "episode = 51, epsilon = 0.2696559088937193\n",
      "episode = 52, epsilon = 0.2679161449185622\n",
      "episode = 53, epsilon = 0.26622042768611637\n",
      "episode = 54, epsilon = 0.26456684199469993\n",
      "episode = 55, epsilon = 0.26295358943292957\n",
      "episode = 56, epsilon = 0.26137897928735515\n",
      "episode = 57, epsilon = 0.25984142030594476\n",
      "episode = 58, epsilon = 0.2583394132234127\n",
      "episode = 59, epsilon = 0.2568715439661365\n",
      "episode = 60, epsilon = 0.2554364774645177\n",
      "episode = 61, epsilon = 0.2540329520093663\n",
      "episode = 62, epsilon = 0.25265977409642826\n",
      "episode = 63, epsilon = 0.25131581370971795\n",
      "episode = 64, epsilon = 0.25000000000000006\n",
      "episode = 65, epsilon = 0.24871131731971624\n",
      "episode = 66, epsilon = 0.24744880157997637\n",
      "episode = 67, epsilon = 0.2462115368990136\n",
      "episode = 68, epsilon = 0.2449986525148223\n",
      "episode = 69, epsilon = 0.24380931993760993\n",
      "episode = 70, epsilon = 0.2426427503202587\n",
      "episode = 71, epsilon = 0.2414981920272584\n",
      "episode = 72, epsilon = 0.24037492838456806\n",
      "episode = 73, epsilon = 0.2392722755946373\n",
      "episode = 74, epsilon = 0.23818958080238592\n",
      "episode = 75, epsilon = 0.23712622029933755\n",
      "episode = 76, epsilon = 0.2360815978543417\n",
      "episode = 77, epsilon = 0.2350551431604272\n",
      "episode = 78, epsilon = 0.23404631038831514\n",
      "episode = 79, epsilon = 0.23305457683800565\n",
      "episode = 80, epsilon = 0.232079441680639\n",
      "episode = 81, epsilon = 0.23112042478354494\n",
      "episode = 82, epsilon = 0.23017706561202741\n",
      "episode = 83, epsilon = 0.22924892220200552\n",
      "episode = 84, epsilon = 0.22833557019814713\n",
      "episode = 85, epsilon = 0.22743660195259532\n",
      "episode = 86, epsilon = 0.22655162567980838\n",
      "episode = 87, epsilon = 0.22568026466341165\n",
      "episode = 88, epsilon = 0.2248221565113046\n",
      "episode = 89, epsilon = 0.22397695245557508\n",
      "episode = 90, epsilon = 0.22314431669405654\n",
      "episode = 91, epsilon = 0.22232392577061855\n",
      "episode = 92, epsilon = 0.22151546799151525\n",
      "episode = 93, epsilon = 0.2207186428753261\n",
      "episode = 94, epsilon = 0.21993316063421825\n",
      "episode = 95, epsilon = 0.21915874168443503\n",
      "episode = 96, epsilon = 0.21839511618407473\n",
      "episode = 97, epsilon = 0.21764202359637289\n",
      "episode = 98, epsilon = 0.21689921227683306\n",
      "episode = 99, epsilon = 0.216166439082676\n",
      "episode = 100, epsilon = 0.2154434690031884\n"
     ]
    }
   ],
   "source": [
    "for i in range(1, 101):\n",
    "    print(f\"episode = {i}, epsilon = {max(0.1, 1 / i ** (1/3))}\")"
   ],
   "metadata": {
    "collapsed": false,
    "ExecuteTime": {
     "end_time": "2024-03-18T17:09:34.472312Z",
     "start_time": "2024-03-18T17:09:34.460785Z"
    }
   },
   "id": "9fc3294c15aaad5d",
   "execution_count": 31
  },
  {
   "cell_type": "code",
   "outputs": [],
   "source": [],
   "metadata": {
    "collapsed": false
   },
   "id": "a20610b246167afb"
  }
 ],
 "metadata": {
  "kernelspec": {
   "display_name": "Python 3 (ipykernel)",
   "language": "python",
   "name": "python3"
  },
  "language_info": {
   "codemirror_mode": {
    "name": "ipython",
    "version": 3
   },
   "file_extension": ".py",
   "mimetype": "text/x-python",
   "name": "python",
   "nbconvert_exporter": "python",
   "pygments_lexer": "ipython3",
   "version": "3.10.13"
  }
 },
 "nbformat": 4,
 "nbformat_minor": 5
}
