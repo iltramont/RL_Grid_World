{
 "cells": [
  {
   "cell_type": "code",
   "execution_count": 16,
   "id": "2ef6d454-40f1-4838-b370-5402d7ebab1b",
   "metadata": {
    "ExecuteTime": {
     "end_time": "2024-03-19T16:40:05.152409Z",
     "start_time": "2024-03-19T16:40:05.146294Z"
    }
   },
   "outputs": [],
   "source": [
    "import matplotlib.pyplot as plt\n",
    "import numpy as np\n",
    "import seaborn as sns\n",
    "from IPython.display import clear_output\n"
   ]
  },
  {
   "cell_type": "code",
   "execution_count": 2,
   "id": "a883b742-8cfb-4619-a7c7-6fe6422abe42",
   "metadata": {
    "ExecuteTime": {
     "end_time": "2024-03-19T16:32:50.892145Z",
     "start_time": "2024-03-19T16:32:50.864104Z"
    }
   },
   "outputs": [],
   "source": [
    "def rotate_action(action: (int, int), clockwise: bool) -> (int, int):\n",
    "    if clockwise:\n",
    "        return action[1], -action[0]\n",
    "    else:\n",
    "        return -action[1], action[0]"
   ]
  },
  {
   "cell_type": "code",
   "execution_count": 3,
   "id": "db11e84e-5d9b-4502-b6c8-fd387a7f4d60",
   "metadata": {
    "ExecuteTime": {
     "end_time": "2024-03-19T16:32:50.908196Z",
     "start_time": "2024-03-19T16:32:50.898192Z"
    }
   },
   "outputs": [
    {
     "name": "stdout",
     "output_type": "stream",
     "text": [
      "(-3, 2)\n"
     ]
    }
   ],
   "source": [
    "print(rotate_action((2, 3), False))"
   ]
  },
  {
   "cell_type": "code",
   "execution_count": 4,
   "id": "ba3b6e88-224a-4885-8165-9ca1241e7fe2",
   "metadata": {
    "ExecuteTime": {
     "end_time": "2024-03-19T16:32:50.924090Z",
     "start_time": "2024-03-19T16:32:50.910345Z"
    }
   },
   "outputs": [],
   "source": [
    "def geometric_series(x: float, k: int, start: int = 1) -> list[float]:\n",
    "    return [x**i for i in reversed(range(start, start + k))]"
   ]
  },
  {
   "cell_type": "code",
   "outputs": [
    {
     "data": {
      "text/plain": "[0.125, 0.25, 0.5]"
     },
     "execution_count": 5,
     "metadata": {},
     "output_type": "execute_result"
    }
   ],
   "source": [
    "geometric_series(0.5, 3)"
   ],
   "metadata": {
    "collapsed": false,
    "ExecuteTime": {
     "end_time": "2024-03-19T16:32:50.954424Z",
     "start_time": "2024-03-19T16:32:50.926097Z"
    }
   },
   "id": "76aed341e0b51a89",
   "execution_count": 5
  },
  {
   "cell_type": "code",
   "outputs": [],
   "source": [
    "def geom_alpha(x: float, k: int) -> float:\n",
    "    if x == 1.0:\n",
    "        return 1 / k\n",
    "    else:\n",
    "        return (1 - x) / (x - x**(k + 1))"
   ],
   "metadata": {
    "collapsed": false,
    "ExecuteTime": {
     "end_time": "2024-03-19T16:32:50.969662Z",
     "start_time": "2024-03-19T16:32:50.956417Z"
    }
   },
   "id": "89e4b1623f80bafb",
   "execution_count": 6
  },
  {
   "cell_type": "code",
   "outputs": [
    {
     "data": {
      "text/plain": "1.0"
     },
     "execution_count": 7,
     "metadata": {},
     "output_type": "execute_result"
    }
   ],
   "source": [
    "geom_alpha(0.5, 3) * sum(geometric_series(0.5, 3))"
   ],
   "metadata": {
    "collapsed": false,
    "ExecuteTime": {
     "end_time": "2024-03-19T16:32:50.985661Z",
     "start_time": "2024-03-19T16:32:50.971656Z"
    }
   },
   "id": "adcf87ff1246a1ae",
   "execution_count": 7
  },
  {
   "cell_type": "code",
   "outputs": [
    {
     "data": {
      "text/plain": "1.0"
     },
     "execution_count": 8,
     "metadata": {},
     "output_type": "execute_result"
    }
   ],
   "source": [
    "geom_alpha(0.5, 100)"
   ],
   "metadata": {
    "collapsed": false,
    "ExecuteTime": {
     "end_time": "2024-03-19T16:32:51.001742Z",
     "start_time": "2024-03-19T16:32:50.987656Z"
    }
   },
   "id": "f3777ef9d7f262d5",
   "execution_count": 8
  },
  {
   "cell_type": "code",
   "outputs": [],
   "source": [
    "numbers = [np.random.rand() for _ in range(100_000)]"
   ],
   "metadata": {
    "collapsed": false,
    "ExecuteTime": {
     "end_time": "2024-03-19T16:32:51.063878Z",
     "start_time": "2024-03-19T16:32:51.003745Z"
    }
   },
   "id": "6fb5c1cc1e378b58",
   "execution_count": 9
  },
  {
   "cell_type": "code",
   "outputs": [
    {
     "data": {
      "text/plain": "<Axes: ylabel='Count'>"
     },
     "execution_count": 10,
     "metadata": {},
     "output_type": "execute_result"
    },
    {
     "data": {
      "text/plain": "<Figure size 640x480 with 1 Axes>",
      "image/png": "[encoded data removed]"
     },
     "metadata": {},
     "output_type": "display_data"
    }
   ],
   "source": [
    "sns.histplot(numbers)"
   ],
   "metadata": {
    "collapsed": false,
    "ExecuteTime": {
     "end_time": "2024-03-19T16:32:51.581326Z",
     "start_time": "2024-03-19T16:32:51.065828Z"
    }
   },
   "id": "e1db02e5556e9eff",
   "execution_count": 10
  },
  {
   "cell_type": "code",
   "outputs": [
    {
     "name": "stdout",
     "output_type": "stream",
     "text": [
      "pippo 1\n",
      "pippo 2\n",
      "pippo 3\n",
      "pippo 4\n"
     ]
    }
   ],
   "source": [
    "k = 0\n",
    "while k < 10:\n",
    "    k += 1\n",
    "    if k == 5:\n",
    "        break\n",
    "    print(f\"pippo {k}\")"
   ],
   "metadata": {
    "collapsed": false,
    "ExecuteTime": {
     "end_time": "2024-03-19T16:32:51.596734Z",
     "start_time": "2024-03-19T16:32:51.583327Z"
    }
   },
   "id": "b427e0aefe867913",
   "execution_count": 11
  },
  {
   "cell_type": "code",
   "outputs": [
    {
     "name": "stdout",
     "output_type": "stream",
     "text": [
      "episode = 1, epsilon = 1.0\n",
      "episode = 2, epsilon = 0.6299605249474366\n",
      "episode = 3, epsilon = 0.4807498567691361\n",
      "episode = 4, epsilon = 0.39685026299204984\n",
      "episode = 5, epsilon = 0.3419951893353394\n",
      "episode = 6, epsilon = 0.30285343213869\n",
      "episode = 7, epsilon = 0.27327588325319846\n",
      "episode = 8, epsilon = 0.25000000000000006\n",
      "episode = 9, epsilon = 0.23112042478354494\n",
      "episode = 10, epsilon = 0.2154434690031884\n",
      "episode = 11, epsilon = 0.20218000823357415\n",
      "episode = 12, epsilon = 0.190785707092222\n",
      "episode = 13, epsilon = 0.1808718990554429\n",
      "episode = 14, epsilon = 0.1721530188696593\n",
      "episode = 15, epsilon = 0.16441413828869803\n",
      "episode = 16, epsilon = 0.15749013123685915\n",
      "episode = 17, epsilon = 0.15125185827401386\n",
      "episode = 18, epsilon = 0.14559674412271648\n",
      "episode = 19, epsilon = 0.14044219203799713\n",
      "episode = 20, epsilon = 0.13572088082974534\n",
      "episode = 21, epsilon = 0.13137734173243434\n",
      "episode = 22, epsilon = 0.12736542412069943\n",
      "episode = 23, epsilon = 0.12364639042832894\n",
      "episode = 24, epsilon = 0.12018746419228403\n",
      "episode = 25, epsilon = 0.11696070952851464\n",
      "episode = 26, epsilon = 0.11394215647720658\n",
      "episode = 27, epsilon = 0.11111111111111113\n",
      "episode = 28, epsilon = 0.10844960613841653\n",
      "episode = 29, epsilon = 0.10594195950640854\n",
      "episode = 30, epsilon = 0.10357441686512864\n",
      "episode = 31, epsilon = 0.10133485975456108\n",
      "episode = 32, epsilon = 0.1\n",
      "episode = 33, epsilon = 0.1\n",
      "episode = 34, epsilon = 0.1\n",
      "episode = 35, epsilon = 0.1\n",
      "episode = 36, epsilon = 0.1\n",
      "episode = 37, epsilon = 0.1\n",
      "episode = 38, epsilon = 0.1\n",
      "episode = 39, epsilon = 0.1\n",
      "episode = 40, epsilon = 0.1\n",
      "episode = 41, epsilon = 0.1\n",
      "episode = 42, epsilon = 0.1\n",
      "episode = 43, epsilon = 0.1\n",
      "episode = 44, epsilon = 0.1\n",
      "episode = 45, epsilon = 0.1\n",
      "episode = 46, epsilon = 0.1\n",
      "episode = 47, epsilon = 0.1\n",
      "episode = 48, epsilon = 0.1\n",
      "episode = 49, epsilon = 0.1\n",
      "episode = 50, epsilon = 0.1\n"
     ]
    }
   ],
   "source": [
    "for i in range(1, 51):\n",
    "    print(f\"episode = {i}, epsilon = {max(0.1, 1 / i ** (2/3))}\")"
   ],
   "metadata": {
    "collapsed": false,
    "ExecuteTime": {
     "end_time": "2024-03-19T16:32:51.627677Z",
     "start_time": "2024-03-19T16:32:51.602873Z"
    }
   },
   "id": "d1481370ef180e95",
   "execution_count": 12
  },
  {
   "cell_type": "code",
   "outputs": [
    {
     "name": "stdout",
     "output_type": "stream",
     "text": [
      "episode = 1, epsilon = 1.0\n",
      "episode = 101, epsilon = 0.2147300748096567\n",
      "episode = 201, epsilon = 0.17071354498412838\n",
      "episode = 301, epsilon = 0.14921454815128984\n",
      "episode = 401, epsilon = 0.13560796823117574\n",
      "episode = 501, epsilon = 0.12590822207188843\n",
      "episode = 601, epsilon = 0.1184973148475056\n",
      "episode = 701, epsilon = 0.11257120821322758\n",
      "episode = 801, epsilon = 0.10767688781260534\n",
      "episode = 901, epsilon = 0.10353608436093742\n",
      "episode = 1001, epsilon = 0.09996668887161934\n",
      "episode = 1101, epsilon = 0.09684359296022844\n",
      "episode = 1201, epsilon = 0.09407747751116668\n",
      "episode = 1301, epsilon = 0.09160255089380442\n",
      "episode = 1401, epsilon = 0.089369080221488\n",
      "episode = 1501, epsilon = 0.08733864219789747\n",
      "episode = 1601, epsilon = 0.08548099250255499\n",
      "episode = 1701, epsilon = 0.08377193790323932\n",
      "episode = 1801, epsilon = 0.08219185124893573\n",
      "episode = 1901, epsilon = 0.08072461102819642\n",
      "episode = 2001, epsilon = 0.07935682866404355\n",
      "episode = 2101, epsilon = 0.07807727531026205\n",
      "episode = 2201, epsilon = 0.07687644980031841\n",
      "episode = 2301, epsilon = 0.07574624828991043\n",
      "episode = 2401, epsilon = 0.07467970836781576\n",
      "episode = 2501, epsilon = 0.07367080850775233\n",
      "episode = 2601, epsilon = 0.07271430920129784\n",
      "episode = 2701, epsilon = 0.07180562586985276\n",
      "episode = 2801, epsilon = 0.0709407262791585\n",
      "episode = 2901, epsilon = 0.07011604704187105\n",
      "episode = 3001, epsilon = 0.06932842513246344\n",
      "episode = 3101, epsilon = 0.06857504131359178\n",
      "episode = 3201, epsilon = 0.06785337309130408\n",
      "episode = 3301, epsilon = 0.06716115535144519\n",
      "episode = 3401, epsilon = 0.06649634723213385\n",
      "episode = 3501, epsilon = 0.0658571040929318\n",
      "episode = 3601, epsilon = 0.06524175367561953\n",
      "episode = 3701, epsilon = 0.06464877573253047\n",
      "episode = 3801, epsilon = 0.0640767845393743\n",
      "episode = 3901, epsilon = 0.06352451382007167\n",
      "episode = 4001, epsilon = 0.06299080369847752\n",
      "episode = 4101, epsilon = 0.062474589361323454\n",
      "episode = 4201, epsilon = 0.061974891172269626\n",
      "episode = 4301, epsilon = 0.061490806021665886\n",
      "episode = 4401, epsilon = 0.06102149973279642\n",
      "episode = 4501, epsilon = 0.06056620037480886\n",
      "episode = 4601, epsilon = 0.06012419235658421\n",
      "episode = 4701, epsilon = 0.0596948111955642\n",
      "episode = 4801, epsilon = 0.059277438871858046\n",
      "episode = 4901, epsilon = 0.05887149969146364\n"
     ]
    }
   ],
   "source": [
    "for i in range(1, 5001, 100):\n",
    "    print(f\"episode = {i}, epsilon = {max(0.05, 1 / i ** (1/3))}\")"
   ],
   "metadata": {
    "collapsed": false,
    "ExecuteTime": {
     "end_time": "2024-03-19T16:53:32.599425Z",
     "start_time": "2024-03-19T16:53:32.582324Z"
    }
   },
   "id": "9fc3294c15aaad5d",
   "execution_count": 35
  },
  {
   "cell_type": "code",
   "outputs": [
    {
     "data": {
      "text/plain": "2.0"
     },
     "execution_count": 14,
     "metadata": {},
     "output_type": "execute_result"
    }
   ],
   "source": [
    "np.mean([1, 2, 3])"
   ],
   "metadata": {
    "collapsed": false,
    "ExecuteTime": {
     "end_time": "2024-03-19T16:33:01.193009Z",
     "start_time": "2024-03-19T16:33:01.185937Z"
    }
   },
   "id": "a20610b246167afb",
   "execution_count": 14
  },
  {
   "cell_type": "code",
   "outputs": [
    {
     "ename": "ValueError",
     "evalue": "'twiligh' is not a valid value for name; supported values are 'Accent', 'Accent_r', 'Blues', 'Blues_r', 'BrBG', 'BrBG_r', 'BuGn', 'BuGn_r', 'BuPu', 'BuPu_r', 'CMRmap', 'CMRmap_r', 'Dark2', 'Dark2_r', 'GnBu', 'GnBu_r', 'Grays', 'Greens', 'Greens_r', 'Greys', 'Greys_r', 'OrRd', 'OrRd_r', 'Oranges', 'Oranges_r', 'PRGn', 'PRGn_r', 'Paired', 'Paired_r', 'Pastel1', 'Pastel1_r', 'Pastel2', 'Pastel2_r', 'PiYG', 'PiYG_r', 'PuBu', 'PuBuGn', 'PuBuGn_r', 'PuBu_r', 'PuOr', 'PuOr_r', 'PuRd', 'PuRd_r', 'Purples', 'Purples_r', 'RdBu', 'RdBu_r', 'RdGy', 'RdGy_r', 'RdPu', 'RdPu_r', 'RdYlBu', 'RdYlBu_r', 'RdYlGn', 'RdYlGn_r', 'Reds', 'Reds_r', 'Set1', 'Set1_r', 'Set2', 'Set2_r', 'Set3', 'Set3_r', 'Spectral', 'Spectral_r', 'Wistia', 'Wistia_r', 'YlGn', 'YlGnBu', 'YlGnBu_r', 'YlGn_r', 'YlOrBr', 'YlOrBr_r', 'YlOrRd', 'YlOrRd_r', 'afmhot', 'afmhot_r', 'autumn', 'autumn_r', 'binary', 'binary_r', 'bone', 'bone_r', 'brg', 'brg_r', 'bwr', 'bwr_r', 'cividis', 'cividis_r', 'cool', 'cool_r', 'coolwarm', 'coolwarm_r', 'copper', 'copper_r', 'crest', 'crest_r', 'cubehelix', 'cubehelix_r', 'flag', 'flag_r', 'flare', 'flare_r', 'gist_earth', 'gist_earth_r', 'gist_gray', 'gist_gray_r', 'gist_grey', 'gist_heat', 'gist_heat_r', 'gist_ncar', 'gist_ncar_r', 'gist_rainbow', 'gist_rainbow_r', 'gist_stern', 'gist_stern_r', 'gist_yarg', 'gist_yarg_r', 'gist_yerg', 'gnuplot', 'gnuplot2', 'gnuplot2_r', 'gnuplot_r', 'gray', 'gray_r', 'grey', 'hot', 'hot_r', 'hsv', 'hsv_r', 'icefire', 'icefire_r', 'inferno', 'inferno_r', 'jet', 'jet_r', 'magma', 'magma_r', 'mako', 'mako_r', 'nipy_spectral', 'nipy_spectral_r', 'ocean', 'ocean_r', 'pink', 'pink_r', 'plasma', 'plasma_r', 'prism', 'prism_r', 'rainbow', 'rainbow_r', 'rocket', 'rocket_r', 'seismic', 'seismic_r', 'spring', 'spring_r', 'summer', 'summer_r', 'tab10', 'tab10_r', 'tab20', 'tab20_r', 'tab20b', 'tab20b_r', 'tab20c', 'tab20c_r', 'terrain', 'terrain_r', 'turbo', 'turbo_r', 'twilight', 'twilight_r', 'twilight_shifted', 'twilight_shifted_r', 'viridis', 'viridis_r', 'vlag', 'vlag_r', 'winter', 'winter_r'",
     "output_type": "error",
     "traceback": [
      "\u001B[1;31m---------------------------------------------------------------------------\u001B[0m",
      "\u001B[1;31mValueError\u001B[0m                                Traceback (most recent call last)",
      "Cell \u001B[1;32mIn[32], line 1\u001B[0m\n\u001B[1;32m----> 1\u001B[0m \u001B[43mplt\u001B[49m\u001B[38;5;241;43m.\u001B[39;49m\u001B[43mget_cmap\u001B[49m\u001B[43m(\u001B[49m\u001B[38;5;124;43m\"\u001B[39;49m\u001B[38;5;124;43mtwiligh\u001B[39;49m\u001B[38;5;124;43m\"\u001B[39;49m\u001B[43m)\u001B[49m\n",
      "File \u001B[1;32m~\\anaconda3\\envs\\AI_LAB\\lib\\site-packages\\matplotlib\\pyplot.py:2357\u001B[0m, in \u001B[0;36mget_cmap\u001B[1;34m(name, lut)\u001B[0m\n\u001B[0;32m   2353\u001B[0m \u001B[38;5;28;01mdef\u001B[39;00m \u001B[38;5;21mget_cmap\u001B[39m(\n\u001B[0;32m   2354\u001B[0m     name: Colormap \u001B[38;5;241m|\u001B[39m \u001B[38;5;28mstr\u001B[39m \u001B[38;5;241m|\u001B[39m \u001B[38;5;28;01mNone\u001B[39;00m \u001B[38;5;241m=\u001B[39m \u001B[38;5;28;01mNone\u001B[39;00m,\n\u001B[0;32m   2355\u001B[0m     lut: \u001B[38;5;28mint\u001B[39m \u001B[38;5;241m|\u001B[39m \u001B[38;5;28;01mNone\u001B[39;00m \u001B[38;5;241m=\u001B[39m \u001B[38;5;28;01mNone\u001B[39;00m\n\u001B[0;32m   2356\u001B[0m ) \u001B[38;5;241m-\u001B[39m\u001B[38;5;241m>\u001B[39m Colormap:\n\u001B[1;32m-> 2357\u001B[0m     \u001B[38;5;28;01mreturn\u001B[39;00m \u001B[43mcm\u001B[49m\u001B[38;5;241;43m.\u001B[39;49m\u001B[43m_get_cmap\u001B[49m\u001B[43m(\u001B[49m\u001B[43mname\u001B[49m\u001B[38;5;241;43m=\u001B[39;49m\u001B[43mname\u001B[49m\u001B[43m,\u001B[49m\u001B[43m \u001B[49m\u001B[43mlut\u001B[49m\u001B[38;5;241;43m=\u001B[39;49m\u001B[43mlut\u001B[49m\u001B[43m)\u001B[49m\n",
      "File \u001B[1;32m~\\anaconda3\\envs\\AI_LAB\\lib\\site-packages\\matplotlib\\cm.py:305\u001B[0m, in \u001B[0;36m_get_cmap\u001B[1;34m(name, lut)\u001B[0m\n\u001B[0;32m    303\u001B[0m \u001B[38;5;28;01mif\u001B[39;00m \u001B[38;5;28misinstance\u001B[39m(name, colors\u001B[38;5;241m.\u001B[39mColormap):\n\u001B[0;32m    304\u001B[0m     \u001B[38;5;28;01mreturn\u001B[39;00m name\n\u001B[1;32m--> 305\u001B[0m \u001B[43m_api\u001B[49m\u001B[38;5;241;43m.\u001B[39;49m\u001B[43mcheck_in_list\u001B[49m\u001B[43m(\u001B[49m\u001B[38;5;28;43msorted\u001B[39;49m\u001B[43m(\u001B[49m\u001B[43m_colormaps\u001B[49m\u001B[43m)\u001B[49m\u001B[43m,\u001B[49m\u001B[43m \u001B[49m\u001B[43mname\u001B[49m\u001B[38;5;241;43m=\u001B[39;49m\u001B[43mname\u001B[49m\u001B[43m)\u001B[49m\n\u001B[0;32m    306\u001B[0m \u001B[38;5;28;01mif\u001B[39;00m lut \u001B[38;5;129;01mis\u001B[39;00m \u001B[38;5;28;01mNone\u001B[39;00m:\n\u001B[0;32m    307\u001B[0m     \u001B[38;5;28;01mreturn\u001B[39;00m _colormaps[name]\n",
      "File \u001B[1;32m~\\anaconda3\\envs\\AI_LAB\\lib\\site-packages\\matplotlib\\_api\\__init__.py:129\u001B[0m, in \u001B[0;36mcheck_in_list\u001B[1;34m(values, _print_supported_values, **kwargs)\u001B[0m\n\u001B[0;32m    127\u001B[0m \u001B[38;5;28;01mif\u001B[39;00m _print_supported_values:\n\u001B[0;32m    128\u001B[0m     msg \u001B[38;5;241m+\u001B[39m\u001B[38;5;241m=\u001B[39m \u001B[38;5;124mf\u001B[39m\u001B[38;5;124m\"\u001B[39m\u001B[38;5;124m; supported values are \u001B[39m\u001B[38;5;132;01m{\u001B[39;00m\u001B[38;5;124m'\u001B[39m\u001B[38;5;124m, \u001B[39m\u001B[38;5;124m'\u001B[39m\u001B[38;5;241m.\u001B[39mjoin(\u001B[38;5;28mmap\u001B[39m(\u001B[38;5;28mrepr\u001B[39m,\u001B[38;5;250m \u001B[39mvalues))\u001B[38;5;132;01m}\u001B[39;00m\u001B[38;5;124m\"\u001B[39m\n\u001B[1;32m--> 129\u001B[0m \u001B[38;5;28;01mraise\u001B[39;00m \u001B[38;5;167;01mValueError\u001B[39;00m(msg)\n",
      "\u001B[1;31mValueError\u001B[0m: 'twiligh' is not a valid value for name; supported values are 'Accent', 'Accent_r', 'Blues', 'Blues_r', 'BrBG', 'BrBG_r', 'BuGn', 'BuGn_r', 'BuPu', 'BuPu_r', 'CMRmap', 'CMRmap_r', 'Dark2', 'Dark2_r', 'GnBu', 'GnBu_r', 'Grays', 'Greens', 'Greens_r', 'Greys', 'Greys_r', 'OrRd', 'OrRd_r', 'Oranges', 'Oranges_r', 'PRGn', 'PRGn_r', 'Paired', 'Paired_r', 'Pastel1', 'Pastel1_r', 'Pastel2', 'Pastel2_r', 'PiYG', 'PiYG_r', 'PuBu', 'PuBuGn', 'PuBuGn_r', 'PuBu_r', 'PuOr', 'PuOr_r', 'PuRd', 'PuRd_r', 'Purples', 'Purples_r', 'RdBu', 'RdBu_r', 'RdGy', 'RdGy_r', 'RdPu', 'RdPu_r', 'RdYlBu', 'RdYlBu_r', 'RdYlGn', 'RdYlGn_r', 'Reds', 'Reds_r', 'Set1', 'Set1_r', 'Set2', 'Set2_r', 'Set3', 'Set3_r', 'Spectral', 'Spectral_r', 'Wistia', 'Wistia_r', 'YlGn', 'YlGnBu', 'YlGnBu_r', 'YlGn_r', 'YlOrBr', 'YlOrBr_r', 'YlOrRd', 'YlOrRd_r', 'afmhot', 'afmhot_r', 'autumn', 'autumn_r', 'binary', 'binary_r', 'bone', 'bone_r', 'brg', 'brg_r', 'bwr', 'bwr_r', 'cividis', 'cividis_r', 'cool', 'cool_r', 'coolwarm', 'coolwarm_r', 'copper', 'copper_r', 'crest', 'crest_r', 'cubehelix', 'cubehelix_r', 'flag', 'flag_r', 'flare', 'flare_r', 'gist_earth', 'gist_earth_r', 'gist_gray', 'gist_gray_r', 'gist_grey', 'gist_heat', 'gist_heat_r', 'gist_ncar', 'gist_ncar_r', 'gist_rainbow', 'gist_rainbow_r', 'gist_stern', 'gist_stern_r', 'gist_yarg', 'gist_yarg_r', 'gist_yerg', 'gnuplot', 'gnuplot2', 'gnuplot2_r', 'gnuplot_r', 'gray', 'gray_r', 'grey', 'hot', 'hot_r', 'hsv', 'hsv_r', 'icefire', 'icefire_r', 'inferno', 'inferno_r', 'jet', 'jet_r', 'magma', 'magma_r', 'mako', 'mako_r', 'nipy_spectral', 'nipy_spectral_r', 'ocean', 'ocean_r', 'pink', 'pink_r', 'plasma', 'plasma_r', 'prism', 'prism_r', 'rainbow', 'rainbow_r', 'rocket', 'rocket_r', 'seismic', 'seismic_r', 'spring', 'spring_r', 'summer', 'summer_r', 'tab10', 'tab10_r', 'tab20', 'tab20_r', 'tab20b', 'tab20b_r', 'tab20c', 'tab20c_r', 'terrain', 'terrain_r', 'turbo', 'turbo_r', 'twilight', 'twilight_r', 'twilight_shifted', 'twilight_shifted_r', 'viridis', 'viridis_r', 'vlag', 'vlag_r', 'winter', 'winter_r'"
     ]
    }
   ],
   "source": [
    "plt.get_cmap(\"twiligh\")"
   ],
   "metadata": {
    "collapsed": false,
    "ExecuteTime": {
     "end_time": "2024-03-19T16:43:11.617924Z",
     "start_time": "2024-03-19T16:43:11.564098Z"
    }
   },
   "id": "e06ca2e340e808d7",
   "execution_count": 32
  },
  {
   "cell_type": "code",
   "outputs": [],
   "source": [],
   "metadata": {
    "collapsed": false
   },
   "id": "19c07c361c19c7d1"
  }
 ],
 "metadata": {
  "kernelspec": {
   "display_name": "Python 3 (ipykernel)",
   "language": "python",
   "name": "python3"
  },
  "language_info": {
   "codemirror_mode": {
    "name": "ipython",
    "version": 3
   },
   "file_extension": ".py",
   "mimetype": "text/x-python",
   "name": "python",
   "nbconvert_exporter": "python",
   "pygments_lexer": "ipython3",
   "version": "3.10.13"
  }
 },
 "nbformat": 4,
 "nbformat_minor": 5
}
