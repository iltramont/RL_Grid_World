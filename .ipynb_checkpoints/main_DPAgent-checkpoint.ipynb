{
 "cells": [
  {
   "cell_type": "code",
   "execution_count": 3,
   "id": "initial_id",
   "metadata": {
    "collapsed": true,
    "ExecuteTime": {
     "end_time": "2024-03-18T10:50:53.754411Z",
     "start_time": "2024-03-18T10:50:53.729741Z"
    }
   },
   "outputs": [
    {
     "ename": "SyntaxError",
     "evalue": "invalid syntax. Perhaps you forgot a comma? (dpAgent.py, line 104)",
     "output_type": "error",
     "traceback": [
      "Traceback \u001B[1;36m(most recent call last)\u001B[0m:\n",
      "\u001B[0m  File \u001B[0;32m~\\anaconda3\\envs\\AI_LAB\\lib\\site-packages\\IPython\\core\\interactiveshell.py:3553\u001B[0m in \u001B[0;35mrun_code\u001B[0m\n    exec(code_obj, self.user_global_ns, self.user_ns)\u001B[0m\n",
      "\u001B[1;36m  Cell \u001B[1;32mIn[3], line 2\u001B[1;36m\n\u001B[1;33m    from dpAgent import DPAgent\u001B[1;36m\n",
      "\u001B[1;36m  File \u001B[1;32m~\\GitHub\\RL_Grid_World\\dpAgent.py:104\u001B[1;36m\u001B[0m\n\u001B[1;33m    delta = max(delta, self.value_table[])\u001B[0m\n\u001B[1;37m                       ^\u001B[0m\n\u001B[1;31mSyntaxError\u001B[0m\u001B[1;31m:\u001B[0m invalid syntax. Perhaps you forgot a comma?\n"
     ]
    }
   ],
   "source": [
    "from grid_world_environment import GridWorldEnvironment\n",
    "from dpAgent import DPAgent\n",
    "\n",
    "from IPython.display import clear_output"
   ]
  },
  {
   "cell_type": "markdown",
   "source": [
    "## Initialize environment"
   ],
   "metadata": {
    "collapsed": false
   },
   "id": "7cbed731328b5d75"
  },
  {
   "cell_type": "code",
   "outputs": [
    {
     "data": {
      "text/plain": "<Figure size 640x480 with 1 Axes>",
      "image/png": "[encoded data removed]"
     },
     "metadata": {},
     "output_type": "display_data"
    }
   ],
   "source": [
    "size = (10, 10)\n",
    "obstacles = [(0,1), (0,2), (1, 1), (1,2), (2,2), (3,2), (4,2), (5,3), (6,4), (7,5), (8,6), (4,6), (3,6), (9,8), (8,8), (7,8), (6,8), (5,8), (4,8), (4,7)]\n",
    "position = (0, 0)\n",
    "target = (9, 9)\n",
    "\n",
    "env = GridWorldEnvironment(size=size,\n",
    "                          obstacles=obstacles,\n",
    "                          position=position,\n",
    "                          target=target)\n",
    "env.display()"
   ],
   "metadata": {
    "collapsed": false,
    "ExecuteTime": {
     "end_time": "2024-03-18T10:50:55.710326Z",
     "start_time": "2024-03-18T10:50:54.898600Z"
    }
   },
   "id": "67b7b90427197c20",
   "execution_count": 4
  },
  {
   "cell_type": "code",
   "outputs": [],
   "source": [],
   "metadata": {
    "collapsed": false,
    "ExecuteTime": {
     "end_time": "2024-03-18T10:50:55.726137Z",
     "start_time": "2024-03-18T10:50:55.714327Z"
    }
   },
   "id": "72f1ef88c4e3a021",
   "execution_count": 4
  },
  {
   "cell_type": "code",
   "outputs": [
    {
     "ename": "NameError",
     "evalue": "name 'DPAgent' is not defined",
     "output_type": "error",
     "traceback": [
      "\u001B[1;31m---------------------------------------------------------------------------\u001B[0m",
      "\u001B[1;31mNameError\u001B[0m                                 Traceback (most recent call last)",
      "Cell \u001B[1;32mIn[5], line 1\u001B[0m\n\u001B[1;32m----> 1\u001B[0m dp_agent \u001B[38;5;241m=\u001B[39m \u001B[43mDPAgent\u001B[49m(env)\n\u001B[0;32m      2\u001B[0m dp_agent\u001B[38;5;241m.\u001B[39mpolicy_iteration(theta\u001B[38;5;241m=\u001B[39m\u001B[38;5;241m0.1\u001B[39m)\n\u001B[0;32m      3\u001B[0m dp_agent\u001B[38;5;241m.\u001B[39mplot_value_table()\n",
      "\u001B[1;31mNameError\u001B[0m: name 'DPAgent' is not defined"
     ]
    }
   ],
   "source": [
    "dp_agent = DPAgent(env)\n",
    "dp_agent.policy_iteration(theta=0.1)\n",
    "dp_agent.plot_value_table()"
   ],
   "metadata": {
    "collapsed": false,
    "ExecuteTime": {
     "end_time": "2024-03-18T10:50:55.958431Z",
     "start_time": "2024-03-18T10:50:55.899521Z"
    }
   },
   "id": "514c16e95c1a7f31",
   "execution_count": 5
  },
  {
   "cell_type": "code",
   "outputs": [
    {
     "data": {
      "text/plain": "<Figure size 640x480 with 1 Axes>",
      "image/png": "[encoded data removed]"
     },
     "metadata": {},
     "output_type": "display_data"
    },
    {
     "name": "stdout",
     "output_type": "stream",
     "text": [
      "Target reached!\n"
     ]
    }
   ],
   "source": [
    "dp_agent.env.reset()\n",
    "dp_agent.animate_robot_movement(delay=0.01)"
   ],
   "metadata": {
    "collapsed": false
   },
   "id": "27ab55002b4c6ac6",
   "execution_count": 24
  }
 ],
 "metadata": {
  "kernelspec": {
   "display_name": "Python 3",
   "language": "python",
   "name": "python3"
  },
  "language_info": {
   "codemirror_mode": {
    "name": "ipython",
    "version": 2
   },
   "file_extension": ".py",
   "mimetype": "text/x-python",
   "name": "python",
   "nbconvert_exporter": "python",
   "pygments_lexer": "ipython2",
   "version": "2.7.6"
  }
 },
 "nbformat": 4,
 "nbformat_minor": 5
}
